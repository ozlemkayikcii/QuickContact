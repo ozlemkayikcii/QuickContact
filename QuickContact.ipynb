{
  "nbformat": 4,
  "nbformat_minor": 0,
  "metadata": {
    "colab": {
      "provenance": []
    },
    "kernelspec": {
      "name": "python3",
      "display_name": "Python 3"
    },
    "language_info": {
      "name": "python"
    }
  },
  "cells": [
    {
      "cell_type": "code",
      "execution_count": null,
      "metadata": {
        "id": "O0RNtaoLBI5C"
      },
      "outputs": [],
      "source": [
        "import pandas as pd\n",
        "import openpyxl\n",
        "\n",
        "def add_prefix_to_column(input_file, column_name):\n",
        "    try:\n",
        "        # Excel dosyasını oku\n",
        "        df = pd.read_excel(input_file, engine='openpyxl', header=1)\n",
        "\n",
        "        # Belirli sütunun tüm hücrelerine \"Gezi \" ön eki ekle\n",
        "        df[column_name] = \"Gezi \" + df[column_name].astype(str)\n",
        "\n",
        "        # Değişiklikleri kaydet\n",
        "        df.to_excel(input_file, index=False, engine='openpyxl')\n",
        "\n",
        "        print(f\"{column_name} sütunundaki isimlere başarıyla 'Gezi ' ön eki eklendi.\")\n",
        "    except Exception as e:\n",
        "        print(\"Hata oluştu:\", str(e))\n",
        "\n",
        "# Kullanım örneği\n",
        "excel_file_path = \"tablo.xlsx\"   # Excel dosya yolu\n",
        "target_column = \"AD SOYAD\"         # İsimlerin bulunduğu sütun başlığı\n",
        "\n",
        "add_prefix_to_column(excel_file_path, target_column)\n",
        "\n",
        "def create_vcf_file(name, phone):\n",
        "    vcf_data = f\"BEGIN:VCARD\\nVERSION:2.1\\nN:{name}\\nFN:{name}\\nTEL;CELL:{phone}\\nEND:VCARD\\n\"\n",
        "    return vcf_data\n",
        "\n",
        "def excel_to_vcf(input_file, name_column, phone_column, output_file):\n",
        "    try:\n",
        "        # Excel dosyasını oku\n",
        "        df = pd.read_excel(input_file, engine='openpyxl')\n",
        "        vcf_contents = \"\"\n",
        "\n",
        "        # Belirli sütunlardaki verileri döngüyle gez ve VCF dosyasına dönüştür\n",
        "        for index, row in df.iterrows():\n",
        "\n",
        "            name = row[name_column]\n",
        "            phone = row[phone_column]\n",
        "            vcf_contents += create_vcf_file(name, phone)\n",
        "\n",
        "        # VCF dosyasını oluştur\n",
        "        with open(output_file, 'w', encoding='utf-8') as vcf_file:\n",
        "            vcf_file.write(vcf_contents)\n",
        "\n",
        "        print(f\"{output_file} dosyası başarıyla oluşturuldu.\")\n",
        "    except Exception as e:\n",
        "        print(\"Hata oluştu:\", str(e))\n",
        "\n",
        "\n",
        "#excel_file_path = \"BURSA tablo.xlsx\"  # Excel dosya yolu\n",
        "#name_column = \"AD SOYAD\"          # Ad-Soyad sütununun başlığı\n",
        "phone_column = \"TELEFON\"         # Telefon sütununun başlığı\n",
        "vcf_file_path = \"rehber.vcf\"     # Oluşturulacak VCF dosya yolu / Şehir ve Tur ismine göre kaydedilebilir.\n",
        "\n",
        "excel_to_vcf(excel_file_path, name_column, phone_column, vcf_file_path)\n"
      ]
    }
  ]
}